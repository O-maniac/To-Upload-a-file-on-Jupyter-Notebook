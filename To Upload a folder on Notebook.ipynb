{
 "cells": [
  {
   "cell_type": "markdown",
   "id": "da6d14cf",
   "metadata": {},
   "source": [
    "# To Upload a Folder on Notebook"
   ]
  },
  {
   "cell_type": "code",
   "execution_count": 1,
   "id": "87ccb5d9",
   "metadata": {},
   "outputs": [],
   "source": [
    "import zipfile as zf\n",
    "\n",
    "files = zf.ZipFile(\"Sales_Data.zip\", 'r')\n",
    "\n",
    "files.extractall('Sales Analysis Using Python Pandas')\n",
    "\n",
    "\n",
    "files.close()"
   ]
  },
  {
   "cell_type": "code",
   "execution_count": null,
   "id": "b189ef60",
   "metadata": {},
   "outputs": [],
   "source": []
  }
 ],
 "metadata": {
  "kernelspec": {
   "display_name": "Python 3 (ipykernel)",
   "language": "python",
   "name": "python3"
  },
  "language_info": {
   "codemirror_mode": {
    "name": "ipython",
    "version": 3
   },
   "file_extension": ".py",
   "mimetype": "text/x-python",
   "name": "python",
   "nbconvert_exporter": "python",
   "pygments_lexer": "ipython3",
   "version": "3.8.12"
  }
 },
 "nbformat": 4,
 "nbformat_minor": 5
}
